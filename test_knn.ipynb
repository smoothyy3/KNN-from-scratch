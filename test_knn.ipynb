{
 "cells": [
  {
   "cell_type": "code",
   "execution_count": 223,
   "metadata": {},
   "outputs": [],
   "source": [
    "from knn import KNearestNeighbor\n",
    "from sklearn.preprocessing import StandardScaler\n",
    "from sklearn.neighbors import KNeighborsClassifier\n",
    "import numpy as np\n",
    "from scaler import ScaleData\n",
    "from accuracy import accuracy\n",
    "from train_test_split import train_test_split"
   ]
  },
  {
   "cell_type": "markdown",
   "metadata": {},
   "source": [
    "### **Test: Compare scaler from scratch with sklearn Standardscaler**"
   ]
  },
  {
   "cell_type": "code",
   "execution_count": 177,
   "metadata": {},
   "outputs": [],
   "source": [
    "X_train = [[i + j for j in range(4)] for i in range(100)]\n",
    "X_test = [[i + j for j in range(4)] for i in range(50, 60)]\n",
    "\n",
    "sklearn_scaler = StandardScaler()\n",
    "sklearn_scaler.fit(X_train)\n",
    "X_train_sklearn_scaled = sklearn_scaler.transform(X_train)\n",
    "X_test_sklearn_scaled = sklearn_scaler.transform(X_test)\n",
    "\n",
    "custom_scaler = ScaleData(method=\"standard\")\n",
    "custom_scaler.fit(X_train)\n",
    "X_train_custom_scaled = custom_scaler.transform(X_train)\n",
    "X_test_custom_scaled = custom_scaler.transform(X_test)"
   ]
  },
  {
   "cell_type": "code",
   "execution_count": 178,
   "metadata": {},
   "outputs": [
    {
     "name": "stdout",
     "output_type": "stream",
     "text": [
      "Vergleich der Trainingsdaten:\n",
      "Maximale Abweichung (Training): 5.940581360164288e-11\n",
      "\n",
      "Vergleich der Testdaten:\n",
      "Maximale Abweichung (Test): 1.1401157795631889e-11\n"
     ]
    }
   ],
   "source": [
    "print(\"Vergleich der Trainingsdaten:\")\n",
    "print(\"Maximale Abweichung (Training):\", np.max(np.abs(np.array(X_train_sklearn_scaled) - np.array(X_train_custom_scaled))))\n",
    "\n",
    "print(\"\\nVergleich der Testdaten:\")\n",
    "print(\"Maximale Abweichung (Test):\", np.max(np.abs(np.array(X_test_sklearn_scaled) - np.array(X_test_custom_scaled))))"
   ]
  },
  {
   "cell_type": "markdown",
   "metadata": {},
   "source": [
    "### By hand test"
   ]
  },
  {
   "cell_type": "code",
   "execution_count": null,
   "metadata": {},
   "outputs": [],
   "source": [
    "print(\"=== Test für Z-Score-Scaler ===\")\n",
    "scaler = ScaleData(method=\"standard\")\n",
    "scaler.fit(X_train)\n",
    "X_train_scaled = scaler.transform(X_train)\n",
    "\n",
    "print(\"Erwartete Mittelwerte:\", [175.0, 70.0])\n",
    "print(\"Berechnete Mittelwerte:\", scaler.means)\n",
    "\n",
    "print(\"Erwartete Standardabweichungen:\", [11.18, 11.18])\n",
    "print(\"Berechnete Standardabweichungen:\", scaler.std_devs)\n",
    "\n",
    "\n",
    "print(\"Erwartete Skalierte Daten (Z-Score):\")\n",
    "print([\n",
    "    [-1.34, -1.34],\n",
    "    [-0.45, -0.45],\n",
    "    [ 0.45,  0.45],\n",
    "    [ 1.34,  1.34]\n",
    "])\n",
    "print(\"Berechnete Skalierte Daten (Z-Score):\", X_train_scaled)"
   ]
  },
  {
   "cell_type": "code",
   "execution_count": null,
   "metadata": {},
   "outputs": [],
   "source": [
    "print(\"\\n=== Test für Min-Max-Scaler ===\")\n",
    "scaler = ScaleData(method=\"minmax\")\n",
    "scaler.fit(X_train)\n",
    "X_train_scaled = scaler.transform(X_train)\n",
    "\n",
    "print(\"Erwartete Min-Werte:\", [160, 55])\n",
    "print(\"Berechnete Min-Werte:\", scaler.min)\n",
    "\n",
    "print(\"Erwartete Max-Werte:\", [190, 85])\n",
    "print(\"Berechnete Max-Werte:\", scaler.max)\n",
    "\n",
    "print(\"Erwartete Skalierte Daten (Min-Max):\")\n",
    "print([\n",
    "    [0.0, 0.0],\n",
    "    [0.33, 0.33],\n",
    "    [0.67, 0.67],\n",
    "    [1.0, 1.0]\n",
    "])\n",
    "print(\"Berechnete Skalierte Daten (Min-Max):\", X_train_scaled)"
   ]
  },
  {
   "cell_type": "markdown",
   "metadata": {},
   "source": [
    "## **Test: Simple dataset classification**"
   ]
  },
  {
   "cell_type": "code",
   "execution_count": 181,
   "metadata": {},
   "outputs": [],
   "source": [
    "X_train = [[1, 1], [2, 2], [3, 3], [6, 5], [7, 7]]\n",
    "y_train = [0, 0, 1, 1, 1]\n",
    "\n",
    "X_test = [[2.5, 2.5], [6.5, 6.5], [4.0, 4.0]]"
   ]
  },
  {
   "cell_type": "code",
   "execution_count": 182,
   "metadata": {},
   "outputs": [],
   "source": [
    "knn = KNearestNeighbor(k = 3)\n",
    "knn.fit(X_train, y_train)"
   ]
  },
  {
   "cell_type": "code",
   "execution_count": null,
   "metadata": {},
   "outputs": [],
   "source": [
    "predictions = knn.predict(X_test)\n",
    "(\"Vorhersagen:\", predictions)"
   ]
  },
  {
   "cell_type": "markdown",
   "metadata": {},
   "source": [
    "### Prediction with scaling & larger dataframe"
   ]
  },
  {
   "cell_type": "code",
   "execution_count": 184,
   "metadata": {},
   "outputs": [],
   "source": [
    "X_train = [[i + j for j in range(4)] for i in range(100)]\n",
    "y_train = [i % 2 for i in range(100)]\n",
    "\n",
    "X_test = [[i + j for j in range(4)] for i in range(50, 60)]"
   ]
  },
  {
   "cell_type": "code",
   "execution_count": null,
   "metadata": {},
   "outputs": [],
   "source": [
    "print(\"Unskalierte Trainingsdaten:\")\n",
    "print(X_train[:5])\n",
    "print(\"Unskalierte Testdaten:\")\n",
    "print(X_test)"
   ]
  },
  {
   "cell_type": "code",
   "execution_count": 186,
   "metadata": {},
   "outputs": [],
   "source": [
    "scaler = ScaleData(method=\"standard\")\n",
    "scaler.fit(X_train)\n",
    "X_train_scaled = scaler.transform(X_train)\n",
    "X_test_scaled = scaler.transform(X_test)"
   ]
  },
  {
   "cell_type": "code",
   "execution_count": null,
   "metadata": {},
   "outputs": [],
   "source": [
    "knn = KNearestNeighbor(k=5)\n",
    "knn.fit(X_train_scaled, y_train)\n",
    "predictions = knn.predict(X_test_scaled)"
   ]
  },
  {
   "cell_type": "code",
   "execution_count": 188,
   "metadata": {},
   "outputs": [
    {
     "data": {
      "text/plain": [
       "('Vorhersagen für Testdaten:', [0, 1, 0, 1, 0, 1, 0, 1, 0, 1])"
      ]
     },
     "execution_count": 188,
     "metadata": {},
     "output_type": "execute_result"
    }
   ],
   "source": [
    "(\"Vorhersagen für Testdaten:\", predictions)"
   ]
  },
  {
   "cell_type": "markdown",
   "metadata": {},
   "source": [
    "## **Test: train_test_split and accuracy**"
   ]
  },
  {
   "cell_type": "code",
   "execution_count": 201,
   "metadata": {},
   "outputs": [],
   "source": [
    "X = [[1, 2], [3, 4], [5, 6], [7, 8], [9, 10]]\n",
    "y = [0, 1, 0, 1, 0]"
   ]
  },
  {
   "cell_type": "code",
   "execution_count": 202,
   "metadata": {},
   "outputs": [],
   "source": [
    "X_train, X_test, y_train, y_test = train_test_split(X, y, test_size=0.4, shuffle=False)"
   ]
  },
  {
   "cell_type": "code",
   "execution_count": 203,
   "metadata": {},
   "outputs": [
    {
     "name": "stdout",
     "output_type": "stream",
     "text": [
      "X_train: [[1, 2], [3, 4], [5, 6]]\n",
      "X_test: [[7, 8], [9, 10]]\n",
      "y_train: [0, 1, 0]\n",
      "y_test: [1, 0]\n"
     ]
    }
   ],
   "source": [
    "print(\"X_train:\", X_train)\n",
    "print(\"X_test:\", X_test)\n",
    "print(\"y_train:\", y_train)\n",
    "print(\"y_test:\", y_test)"
   ]
  },
  {
   "cell_type": "code",
   "execution_count": 204,
   "metadata": {},
   "outputs": [],
   "source": [
    "knn = KNearestNeighbor(k=3)\n",
    "knn.fit(X_train, y_train)"
   ]
  },
  {
   "cell_type": "code",
   "execution_count": null,
   "metadata": {},
   "outputs": [],
   "source": [
    "y_pred = knn.predict(X_test)"
   ]
  },
  {
   "cell_type": "code",
   "execution_count": 206,
   "metadata": {},
   "outputs": [],
   "source": [
    "acc = accuracy(y_test, y_pred)"
   ]
  },
  {
   "cell_type": "code",
   "execution_count": 199,
   "metadata": {},
   "outputs": [
    {
     "name": "stdout",
     "output_type": "stream",
     "text": [
      "Test point: [7, 8]\n",
      "Distances to neighbors: [(2.8284271247461903, 0), (5.656854249492381, 1), (8.48528137423857, 0)]\n",
      "Test point: [9, 10]\n",
      "Distances to neighbors: [(5.656854249492381, 0), (8.48528137423857, 1), (11.313708498984761, 0)]\n"
     ]
    }
   ],
   "source": [
    "for test_point in X_test:\n",
    "    distances = []\n",
    "    for train_point, label in knn.data:\n",
    "        distance = knn.distance_function(test_point, train_point)\n",
    "        distances.append((distance, label))\n",
    "    distances.sort(key=lambda x: x[0])\n",
    "    print(f\"Test point: {test_point}\")\n",
    "    print(f\"Distances to neighbors: {distances[:knn.k]}\")"
   ]
  },
  {
   "cell_type": "code",
   "execution_count": 207,
   "metadata": {},
   "outputs": [
    {
     "name": "stdout",
     "output_type": "stream",
     "text": [
      "y_test (Ground Truth): [1, 0]\n",
      "y_pred (Predictions): [0, 0]\n",
      "Accuracy: 0.5\n"
     ]
    }
   ],
   "source": [
    "print(\"y_test (Ground Truth):\", y_test)\n",
    "print(\"y_pred (Predictions):\", y_pred)\n",
    "print(\"Accuracy:\", acc)"
   ]
  },
  {
   "cell_type": "markdown",
   "metadata": {},
   "source": [
    "### Test all correct accuracy"
   ]
  },
  {
   "cell_type": "code",
   "execution_count": 196,
   "metadata": {},
   "outputs": [
    {
     "name": "stdout",
     "output_type": "stream",
     "text": [
      "Accuracy (perfect): 1.0\n"
     ]
    }
   ],
   "source": [
    "y_true = [0, 1, 1, 0, 1]\n",
    "y_pred = [0, 1, 1, 0, 1]\n",
    "\n",
    "acc = accuracy(y_true, y_pred)\n",
    "print(\"Accuracy (perfect):\", acc)"
   ]
  },
  {
   "cell_type": "markdown",
   "metadata": {},
   "source": [
    "### Test partially correct accuracy"
   ]
  },
  {
   "cell_type": "code",
   "execution_count": 197,
   "metadata": {},
   "outputs": [
    {
     "name": "stdout",
     "output_type": "stream",
     "text": [
      "Accuracy (partial): 0.6\n"
     ]
    }
   ],
   "source": [
    "y_true = [0, 1, 1, 0, 1]\n",
    "y_pred = [0, 1, 0, 0, 0]\n",
    "\n",
    "acc = accuracy(y_true, y_pred)\n",
    "print(\"Accuracy (partial):\", acc)"
   ]
  },
  {
   "cell_type": "markdown",
   "metadata": {},
   "source": [
    "### Test all false accuracy"
   ]
  },
  {
   "cell_type": "code",
   "execution_count": 198,
   "metadata": {},
   "outputs": [
    {
     "name": "stdout",
     "output_type": "stream",
     "text": [
      "Accuracy (none correct): 0.0\n"
     ]
    }
   ],
   "source": [
    "y_true = [0, 1, 1, 0, 1]\n",
    "y_pred = [1, 0, 0, 1, 0]\n",
    "\n",
    "acc = accuracy(y_true, y_pred)\n",
    "print(\"Accuracy (none correct):\", acc)"
   ]
  },
  {
   "cell_type": "markdown",
   "metadata": {},
   "source": [
    "## **KNN-from-scratch vs. KNN from sklearn**"
   ]
  },
  {
   "cell_type": "code",
   "execution_count": 228,
   "metadata": {},
   "outputs": [],
   "source": [
    "from sklearn.datasets import load_iris\n",
    "import numpy as np"
   ]
  },
  {
   "cell_type": "code",
   "execution_count": 229,
   "metadata": {},
   "outputs": [],
   "source": [
    "iris = load_iris()\n",
    "X = iris.data  # Features\n",
    "y = iris.target"
   ]
  },
  {
   "cell_type": "markdown",
   "metadata": {},
   "source": [
    "scratch:"
   ]
  },
  {
   "cell_type": "code",
   "execution_count": null,
   "metadata": {},
   "outputs": [],
   "source": [
    "train_test_split_scratch = train_test_split(X, y, 0.3, True)"
   ]
  },
  {
   "cell_type": "code",
   "execution_count": null,
   "metadata": {},
   "outputs": [],
   "source": [
    "scaler = ScaleData(method=\"standard\")\n",
    "scaler.fit(X_train)\n",
    "X_train_scaled = scaler.transform(X_train)\n",
    "X_test_scaled = scaler.transform(X_test)"
   ]
  },
  {
   "cell_type": "code",
   "execution_count": null,
   "metadata": {},
   "outputs": [],
   "source": [
    "knn_scratch = KNearestNeighbor(k=3)\n",
    "knn_scratch.fit(X_train_scaled.tolist(), y_train.tolist())\n",
    "y_pred_scratch = knn_scratch.predict(X_test_scaled.tolist())"
   ]
  },
  {
   "cell_type": "markdown",
   "metadata": {},
   "source": [
    "sklearn:"
   ]
  },
  {
   "cell_type": "code",
   "execution_count": null,
   "metadata": {},
   "outputs": [],
   "source": [
    "from sklearn.model_selection import train_test_split\n",
    "X_train, X_test, y_train, y_test = train_test_split(X, y, test_size=0.3, random_state=42, shuffle=True)"
   ]
  },
  {
   "cell_type": "code",
   "execution_count": null,
   "metadata": {},
   "outputs": [],
   "source": [
    "scaler = StandardScaler()\n",
    "X_train_scaled = scaler.fit_transform(X_train)\n",
    "X_test_scaled = scaler.transform(X_test)"
   ]
  },
  {
   "cell_type": "code",
   "execution_count": null,
   "metadata": {},
   "outputs": [],
   "source": [
    "knn_sklearn = KNeighborsClassifier(n_neighbors=3)\n",
    "knn_sklearn.fit(X_train_scaled, y_train)\n",
    "y_pred_sklearn = knn_sklearn.predict(X_test_scaled)"
   ]
  }
 ],
 "metadata": {
  "kernelspec": {
   "display_name": "aki",
   "language": "python",
   "name": "python3"
  },
  "language_info": {
   "codemirror_mode": {
    "name": "ipython",
    "version": 3
   },
   "file_extension": ".py",
   "mimetype": "text/x-python",
   "name": "python",
   "nbconvert_exporter": "python",
   "pygments_lexer": "ipython3",
   "version": "3.11.8"
  }
 },
 "nbformat": 4,
 "nbformat_minor": 2
}
